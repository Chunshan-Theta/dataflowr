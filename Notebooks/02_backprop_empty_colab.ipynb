{
  "nbformat": 4,
  "nbformat_minor": 0,
  "metadata": {
    "kernelspec": {
      "name": "python3",
      "display_name": "Python 3"
    },
    "language_info": {
      "codemirror_mode": {
        "name": "ipython",
        "version": 3
      },
      "file_extension": ".py",
      "mimetype": "text/x-python",
      "name": "python",
      "nbconvert_exporter": "python",
      "pygments_lexer": "ipython3",
      "version": "3.6.8"
    },
    "colab": {
      "name": "Copy of 02_backprop_empty_colab.ipynb",
      "provenance": [],
      "include_colab_link": true
    }
  },
  "cells": [
    {
      "cell_type": "markdown",
      "metadata": {
        "id": "view-in-github",
        "colab_type": "text"
      },
      "source": [
        "<a href=\"https://colab.research.google.com/github/Chunshan-Theta/dataflowr/blob/master/Notebooks/02_backprop_empty_colab.ipynb\" target=\"_parent\"><img src=\"https://colab.research.google.com/assets/colab-badge.svg\" alt=\"Open In Colab\"/></a>"
      ]
    },
    {
      "cell_type": "markdown",
      "metadata": {
        "id": "8FM8CQHKcfhx",
        "colab_type": "text"
      },
      "source": [
        "# 簡單實作反向傳播\n",
        "\n",
        "Here we implement a simple backpropagation algorithm with `numpy` for the following problem:\n",
        "\n",
        "We generate points $(x_i,y_i)$ where $y_i= \\exp(w^*x_i+b^*)$, i.e $y^*_i$ is obtained by applying a deterministic function to $x_i$ with parameters $w^*$ and $b^*$. Our goal is to recover the parameters $w^*$ and $b^*$ from the observations $(x_i,y_i)$.\n",
        "\n",
        "To do this, we use SGD to minimize $\\sum_i(y^i - \\exp(w x_i+b))^2$ with respect to $w$ and $b$.\n"
      ]
    },
    {
      "cell_type": "code",
      "metadata": {
        "id": "z-62DGjicfh3",
        "colab_type": "code",
        "colab": {}
      },
      "source": [
        "import numpy as np\n",
        "import matplotlib.pyplot as plt"
      ],
      "execution_count": null,
      "outputs": []
    },
    {
      "cell_type": "code",
      "metadata": {
        "id": "SQlF4jhfcfiD",
        "colab_type": "code",
        "colab": {}
      },
      "source": [
        "w, b = 0.5, 2\n",
        "xx = np.arange(0,1,.01)\n",
        "yy = np.exp(w*xx+b)"
      ],
      "execution_count": null,
      "outputs": []
    },
    {
      "cell_type": "code",
      "metadata": {
        "id": "4OIvcmsqcfiL",
        "colab_type": "code",
        "colab": {}
      },
      "source": [
        "plt.plot(yy)"
      ],
      "execution_count": null,
      "outputs": []
    },
    {
      "cell_type": "markdown",
      "metadata": {
        "id": "siSZvSBBcfiW",
        "colab_type": "text"
      },
      "source": [
        "Following what we just saw in the course, you need to implement each of the basic operations: `(.*w), (.+b), exp(.)` with a forward method, a backward method and a step method."
      ]
    },
    {
      "cell_type": "code",
      "metadata": {
        "id": "PeY2DlqNcfiZ",
        "colab_type": "code",
        "colab": {}
      },
      "source": [
        "class add_bias(object):\n",
        "    def __init__(self,b):\n",
        "        # initialize with a bias b\n",
        "        \n",
        "    def forward(self, x):\n",
        "        # return the result of adding the bias      \n",
        "    \n",
        "    def backward(self,grad):\n",
        "        # save the gradient (to update the bias in the step method) and return the gradient backward\n",
        "    \n",
        "    def step(self, learning_rate):\n",
        "        # update the bias\n",
        "            \n",
        "class multiplication_weight(object):\n",
        "    def __init__(self, w):\n",
        "        # initialize with a weight w\n",
        "        \n",
        "    def forward(self, x):\n",
        "        # return the result of multiplying by weight\n",
        "               \n",
        "    def backward(self,grad):\n",
        "        # save the gradient and return the gradient backward\n",
        "            \n",
        "    def step(self, learning_rate):\n",
        "        # update the weight\n",
        "        \n",
        "class my_exp(object):\n",
        "    # no parameter\n",
        "    def forward(self, x):\n",
        "        # return exp(x)\n",
        "            \n",
        "    def backward(self,grad):\n",
        "        # return the gradient backward\n",
        "            \n",
        "    def step(self, learning_rate):\n",
        "        # any parameter to update?\n",
        "        "
      ],
      "execution_count": null,
      "outputs": []
    },
    {
      "cell_type": "markdown",
      "metadata": {
        "id": "koymOfVlcfih",
        "colab_type": "text"
      },
      "source": [
        "Now, you will need to compose sequentially these operations and here you need to code a class composing operations. This class will have a forward, a backward and a step method and also a compute_loss method."
      ]
    },
    {
      "cell_type": "code",
      "metadata": {
        "id": "EM5M8GCecfik",
        "colab_type": "code",
        "colab": {}
      },
      "source": [
        "class my_composition(object):\n",
        "    def __init__(self, layers):\n",
        "        # initialize with all the operations (called layers here!) in the right order...\n",
        "                \n",
        "    def forward(self, x):\n",
        "        # apply the forward method of each layer\n",
        "            \n",
        "    def compute_loss(self,y, y_est):\n",
        "        # use the L2 loss\n",
        "        # return the loss and save the gradient of the loss\n",
        "            \n",
        "    def backward(self):\n",
        "        # apply backprop sequentially, starting from the gradient of the loss\n",
        "            \n",
        "    def step(self, learning_rate):\n",
        "        # apply the step method of each layer\n",
        "        "
      ],
      "execution_count": null,
      "outputs": []
    },
    {
      "cell_type": "markdown",
      "metadata": {
        "id": "Hs1M-kebcfir",
        "colab_type": "text"
      },
      "source": [
        "Now you need to code the 'training' loop. Keep track of the loss, weight and bias computed at each epoch."
      ]
    },
    {
      "cell_type": "code",
      "metadata": {
        "id": "IWJgoCEKcfiu",
        "colab_type": "code",
        "colab": {}
      },
      "source": [
        "my_fit = my_composition([multiplication_weight(1),add_bias(1), my_exp()])\n",
        "learning_rate = 1e-4\n",
        "losses =[]\n",
        "ws = []\n",
        "bs = []\n",
        "for i in range(5000):\n",
        "    # take a random indice\n",
        "    j = np.random.randint(1, len(xx))\n",
        "    # you can compare with\n",
        "    #j = i % len(xx)\n",
        "    # compute the estimated value of y from xx[j] with the current values of the parameters\n",
        "    \n",
        "    # compute the loss and save it\n",
        "    \n",
        "    # update the parameters and save them\n",
        "    "
      ],
      "execution_count": null,
      "outputs": []
    },
    {
      "cell_type": "code",
      "metadata": {
        "id": "V7mp0eEEcfi2",
        "colab_type": "code",
        "colab": {}
      },
      "source": [
        "my_fit.layers[0].w"
      ],
      "execution_count": null,
      "outputs": []
    },
    {
      "cell_type": "code",
      "metadata": {
        "id": "t54ayZNDcfi9",
        "colab_type": "code",
        "colab": {}
      },
      "source": [
        "my_fit.layers[1].b"
      ],
      "execution_count": null,
      "outputs": []
    },
    {
      "cell_type": "code",
      "metadata": {
        "id": "4Gqz5CxzcfjG",
        "colab_type": "code",
        "colab": {}
      },
      "source": [
        "plt.plot(losses)"
      ],
      "execution_count": null,
      "outputs": []
    },
    {
      "cell_type": "code",
      "metadata": {
        "id": "kaHnaX8jcfjN",
        "colab_type": "code",
        "colab": {}
      },
      "source": [
        "plt.plot(bs)"
      ],
      "execution_count": null,
      "outputs": []
    },
    {
      "cell_type": "code",
      "metadata": {
        "id": "ch28XtPUcfjV",
        "colab_type": "code",
        "colab": {}
      },
      "source": [
        "plt.plot(ws)"
      ],
      "execution_count": null,
      "outputs": []
    },
    {
      "cell_type": "code",
      "metadata": {
        "id": "OZsDj5KGcrRR",
        "colab_type": "code",
        "colab": {}
      },
      "source": [
        ""
      ],
      "execution_count": null,
      "outputs": []
    }
  ]
}